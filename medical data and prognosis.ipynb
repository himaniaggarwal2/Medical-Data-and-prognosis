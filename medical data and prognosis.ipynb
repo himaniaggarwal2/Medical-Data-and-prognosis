{
 "cells": [
  {
   "cell_type": "code",
   "execution_count": 1,
   "metadata": {},
   "outputs": [],
   "source": [
    "import numpy as np # linear algebra\n",
    "import pandas as pd # data processing, CSV file I/O (e.g. pd.read_csv)\n",
    "\n",
    "from subprocess import check_output"
   ]
  },
  {
   "cell_type": "code",
   "execution_count": 3,
   "metadata": {},
   "outputs": [
    {
     "name": "stdout",
     "output_type": "stream",
     "text": [
      "ping returned 77\n",
      "b'ping: -f flag: Operation not permitted\\n'\n"
     ]
    }
   ],
   "source": [
    "import subprocess\n",
    "import sys\n",
    "\n",
    "site = sys.argv[1]\n",
    "ping_count = 4\n",
    "process = subprocess.Popen(['ping', site, '-c', str(ping_count)],\n",
    "                           stdout=subprocess.PIPE,\n",
    "                           stderr=subprocess.STDOUT)\n",
    "returncode = process.wait()\n",
    "print('ping returned {0}'.format(returncode))\n",
    "print(process.stdout.read())"
   ]
  },
  {
   "cell_type": "code",
   "execution_count": 11,
   "metadata": {},
   "outputs": [
    {
     "name": "stdout",
     "output_type": "stream",
     "text": [
      "   syd    did  wei\n",
      "0  1.0  163.0  2.0\n",
      "1  1.0  164.0  2.0\n",
      "2  1.0  165.0  1.0\n",
      "3  1.0  187.0  2.0\n",
      "4  1.0  306.0  2.0\n"
     ]
    }
   ],
   "source": [
    "diff=pd.read_csv('diffsydiw.csv')\n",
    "print(diff.head())"
   ]
  },
  {
   "cell_type": "code",
   "execution_count": 7,
   "metadata": {},
   "outputs": [
    {
     "name": "stdout",
     "output_type": "stream",
     "text": [
      "   syd                      symptom\n",
      "0    1         Upper abdominal pain\n",
      "1    2         Lower abdominal pain\n",
      "2    3  Abscess (Collection of pus)\n",
      "3    4                Alcohol abuse\n",
      "4    5        Anxiety (Nervousness)\n"
     ]
    }
   ],
   "source": [
    "sym=pd.read_csv('sym_t.csv')\n",
    "dia=pd.read_csv('dia_t.csv')\n",
    "print(sym.head())"
   ]
  },
  {
   "cell_type": "code",
   "execution_count": 8,
   "metadata": {},
   "outputs": [
    {
     "name": "stdout",
     "output_type": "stream",
     "text": [
      "   did                                           diagnose\n",
      "0    1  Abdominal aortic aneurysm\u000b",
      "(enlarged major bloo...\n",
      "1    2                                 Abdominal swelling\n",
      "2    3                                   Abdominal trauma\n",
      "3    4                               Abrasions\u000b",
      " (scrapes)\n",
      "4    5  ACE inhibitor induced cough\u000b",
      "blood pressure med...\n"
     ]
    }
   ],
   "source": [
    "print(dia.head())"
   ]
  },
  {
   "cell_type": "code",
   "execution_count": 9,
   "metadata": {},
   "outputs": [],
   "source": [
    "sd_diff=diff.merge(sym, left_on='syd', right_on='syd')"
   ]
  },
  {
   "cell_type": "code",
   "execution_count": 10,
   "metadata": {},
   "outputs": [
    {
     "name": "stdout",
     "output_type": "stream",
     "text": [
      "   syd    did  wei               symptom\n",
      "0  1.0  163.0  2.0  Upper abdominal pain\n",
      "1  1.0  164.0  2.0  Upper abdominal pain\n",
      "2  1.0  165.0  1.0  Upper abdominal pain\n",
      "3  1.0  187.0  2.0  Upper abdominal pain\n",
      "4  1.0  306.0  2.0  Upper abdominal pain\n"
     ]
    }
   ],
   "source": [
    "print(sd_diff.head())"
   ]
  },
  {
   "cell_type": "code",
   "execution_count": 16,
   "metadata": {},
   "outputs": [
    {
     "name": "stdout",
     "output_type": "stream",
     "text": [
      "        syd     did  wei               symptom  \\\n",
      "0       1.0   163.0  2.0  Upper abdominal pain   \n",
      "1       2.0   163.0  1.0  Lower abdominal pain   \n",
      "2       7.0   163.0  1.0     Back ache or pain   \n",
      "3      29.0   163.0  2.0                 Fever   \n",
      "4      32.0   163.0  1.0            Flank pain   \n",
      "...     ...     ...  ...                   ...   \n",
      "5563  271.0  1196.0  2.0       Pulling at ears   \n",
      "5564  272.0  1170.0  2.0            Skin bumps   \n",
      "5565  272.0  1184.0  0.0            Skin bumps   \n",
      "5566  272.0  1186.0  0.0            Skin bumps   \n",
      "5567  272.0   899.0  0.0            Skin bumps   \n",
      "\n",
      "                                         diagnose_x  \\\n",
      "0     Cholecystitis\u000b",
      "inflammation of the gallbladder   \n",
      "1     Cholecystitis\u000b",
      "inflammation of the gallbladder   \n",
      "2     Cholecystitis\u000b",
      "inflammation of the gallbladder   \n",
      "3     Cholecystitis\u000b",
      "inflammation of the gallbladder   \n",
      "4     Cholecystitis\u000b",
      "inflammation of the gallbladder   \n",
      "...                                             ...   \n",
      "5563     Eustachian tube dysfunction\u000b",
      "inner ear tube   \n",
      "5564       Viral exanthem\u000b",
      "rash from viral infection   \n",
      "5565              Actinic keratosis\u000b",
      "AK, skin growth   \n",
      "5566                          Molluscum contagiosum   \n",
      "5567        Keratosis pilaris\u000b",
      "common skin condition   \n",
      "\n",
      "                                         diagnose_y  \n",
      "0     Cholecystitis\u000b",
      "inflammation of the gallbladder  \n",
      "1     Cholecystitis\u000b",
      "inflammation of the gallbladder  \n",
      "2     Cholecystitis\u000b",
      "inflammation of the gallbladder  \n",
      "3     Cholecystitis\u000b",
      "inflammation of the gallbladder  \n",
      "4     Cholecystitis\u000b",
      "inflammation of the gallbladder  \n",
      "...                                             ...  \n",
      "5563     Eustachian tube dysfunction\u000b",
      "inner ear tube  \n",
      "5564       Viral exanthem\u000b",
      "rash from viral infection  \n",
      "5565              Actinic keratosis\u000b",
      "AK, skin growth  \n",
      "5566                          Molluscum contagiosum  \n",
      "5567        Keratosis pilaris\u000b",
      "common skin condition  \n",
      "\n",
      "[5568 rows x 6 columns]\n"
     ]
    }
   ],
   "source": [
    "sd_diff=sd_diff.merge(dia, left_on='did', right_on='did')\n",
    "print(sd_diff)"
   ]
  },
  {
   "cell_type": "code",
   "execution_count": 14,
   "metadata": {},
   "outputs": [],
   "source": [
    "from sklearn.preprocessing import LabelEncoder\n",
    "from tqdm import tqdm"
   ]
  },
  {
   "cell_type": "code",
   "execution_count": 15,
   "metadata": {},
   "outputs": [],
   "source": [
    "from scipy.sparse import coo_matrix, csr_matrix"
   ]
  },
  {
   "cell_type": "code",
   "execution_count": 18,
   "metadata": {},
   "outputs": [
    {
     "name": "stdout",
     "output_type": "stream",
     "text": [
      "   user   song  plays\n",
      "0   1.0  163.0    3.0\n",
      "1   1.0  164.0    3.0\n",
      "2   1.0  165.0    2.0\n",
      "3   1.0  187.0    3.0\n",
      "4   1.0  306.0    3.0\n"
     ]
    },
    {
     "data": {
      "text/html": [
       "<div>\n",
       "<style scoped>\n",
       "    .dataframe tbody tr th:only-of-type {\n",
       "        vertical-align: middle;\n",
       "    }\n",
       "\n",
       "    .dataframe tbody tr th {\n",
       "        vertical-align: top;\n",
       "    }\n",
       "\n",
       "    .dataframe thead th {\n",
       "        text-align: right;\n",
       "    }\n",
       "</style>\n",
       "<table border=\"1\" class=\"dataframe\">\n",
       "  <thead>\n",
       "    <tr style=\"text-align: right;\">\n",
       "      <th></th>\n",
       "      <th>user</th>\n",
       "      <th>song</th>\n",
       "      <th>plays</th>\n",
       "    </tr>\n",
       "  </thead>\n",
       "  <tbody>\n",
       "    <tr>\n",
       "      <th>0</th>\n",
       "      <td>1.0</td>\n",
       "      <td>163.0</td>\n",
       "      <td>3.0</td>\n",
       "    </tr>\n",
       "    <tr>\n",
       "      <th>1</th>\n",
       "      <td>1.0</td>\n",
       "      <td>164.0</td>\n",
       "      <td>3.0</td>\n",
       "    </tr>\n",
       "    <tr>\n",
       "      <th>2</th>\n",
       "      <td>1.0</td>\n",
       "      <td>165.0</td>\n",
       "      <td>2.0</td>\n",
       "    </tr>\n",
       "    <tr>\n",
       "      <th>3</th>\n",
       "      <td>1.0</td>\n",
       "      <td>187.0</td>\n",
       "      <td>3.0</td>\n",
       "    </tr>\n",
       "    <tr>\n",
       "      <th>4</th>\n",
       "      <td>1.0</td>\n",
       "      <td>306.0</td>\n",
       "      <td>3.0</td>\n",
       "    </tr>\n",
       "    <tr>\n",
       "      <th>5</th>\n",
       "      <td>1.0</td>\n",
       "      <td>307.0</td>\n",
       "      <td>2.0</td>\n",
       "    </tr>\n",
       "    <tr>\n",
       "      <th>6</th>\n",
       "      <td>1.0</td>\n",
       "      <td>308.0</td>\n",
       "      <td>3.0</td>\n",
       "    </tr>\n",
       "    <tr>\n",
       "      <th>7</th>\n",
       "      <td>1.0</td>\n",
       "      <td>309.0</td>\n",
       "      <td>3.0</td>\n",
       "    </tr>\n",
       "    <tr>\n",
       "      <th>8</th>\n",
       "      <td>1.0</td>\n",
       "      <td>354.0</td>\n",
       "      <td>2.0</td>\n",
       "    </tr>\n",
       "    <tr>\n",
       "      <th>9</th>\n",
       "      <td>1.0</td>\n",
       "      <td>401.0</td>\n",
       "      <td>2.0</td>\n",
       "    </tr>\n",
       "  </tbody>\n",
       "</table>\n",
       "</div>"
      ],
      "text/plain": [
       "  user   song  plays\n",
       "0  1.0  163.0    3.0\n",
       "1  1.0  164.0    3.0\n",
       "2  1.0  165.0    2.0\n",
       "3  1.0  187.0    3.0\n",
       "4  1.0  306.0    3.0\n",
       "5  1.0  307.0    2.0\n",
       "6  1.0  308.0    3.0\n",
       "7  1.0  309.0    3.0\n",
       "8  1.0  354.0    2.0\n",
       "9  1.0  401.0    2.0"
      ]
     },
     "execution_count": 18,
     "metadata": {},
     "output_type": "execute_result"
    }
   ],
   "source": [
    "def read_data(filename):\n",
    "    \"\"\" Reads in the last.fm dataset, and returns a tuple of a pandas dataframe\n",
    "    and a sparse matrix of song/user/playcount \"\"\"\n",
    "    # read in triples of user/song/playcount from the input dataset\n",
    "    data = pd.read_csv(filename,\n",
    "                             usecols=[0,1,2],        #[36, 11, 10] vrk_pat_primkey,prd_atc_primkey,vdp_aantal\n",
    "                             names=['user', 'song','plays'],skiprows=1) #[:1000000]   # user = patient, or prescriptionnr song=atc\n",
    "                                #skiprows= skip N rows from start of the file\n",
    "    data=data.dropna(axis=0, how='any')  #drop nan\n",
    "    data['plays']=data['plays']+1\n",
    "    print(data.head())\n",
    "    # map each song and user to a unique numeric value\n",
    "    data['user'] = data['user'].astype(\"category\")\n",
    "    data['song'] = data['song'].astype(\"category\")\n",
    "\n",
    "    # create a sparse matrix of all the users/plays\n",
    "    plays = coo_matrix((data['plays'].astype(float),\n",
    "                       (data['song'].cat.codes.copy(), # cat codes return series of codes as well as index\n",
    "                        data['user'].cat.codes.copy())))\n",
    "    \n",
    "    return data, plays,data.groupby(['song']).plays.sum(),data['user'].cat.codes.copy()\n",
    "\n",
    "data,matrix,songsd,user=read_data('diffsydiw.csv')\n",
    "data.head(10)\n",
    "\n",
    "#user=symptom\n",
    "#sond=diagnose"
   ]
  },
  {
   "cell_type": "markdown",
   "metadata": {},
   "source": [
    "# Normalize"
   ]
  },
  {
   "cell_type": "code",
   "execution_count": 19,
   "metadata": {},
   "outputs": [],
   "source": [
    "from sklearn.preprocessing import normalize\n",
    "\n",
    "\n",
    "def cosine(plays):\n",
    "    normalized = normalize(plays)# normalize the data so that it wont distort the difference between the value\n",
    "    return normalized.dot(normalized.T)\n",
    "\n",
    "\n",
    "def bhattacharya(plays):\n",
    "    plays.data = np.sqrt(plays.data) #RMS value\n",
    "    return cosine(plays)\n",
    "\n",
    "\n",
    "def ochiai(plays):\n",
    "    plays = csr_matrix(plays) # compressed sparse row matrix\n",
    "    plays.data = np.ones(len(plays.data))\n",
    "    return cosine(plays)\n",
    "\n",
    "\n",
    "def bm25_weight(data, K1=1.2, B=0.8):\n",
    "    \"\"\" Weighs each row of the matrix data by BM25 weighting \"\"\"\n",
    "    # calculate idf per term (user)\n",
    "    N = float(data.shape[0])\n",
    "    idf = np.log(N / (1 + np.bincount(data.col)))#bincount=it counts the occurrence of each element\n",
    "\n",
    "    # calculate length_norm per document (artist)\n",
    "    row_sums = np.squeeze(np.asarray(data.sum(1)))\n",
    "    average_length = row_sums.sum() / N\n",
    "    length_norm = (1.0 - B) + B * row_sums / average_length\n",
    "\n",
    "    # weight matrix rows by bm25\n",
    "    ret = coo_matrix(data)\n",
    "    ret.data = ret.data * (K1 + 1.0) / (K1 * length_norm[ret.row] + ret.data) * idf[ret.col]\n",
    "    return ret\n",
    "\n",
    "\n",
    "def bm25(plays):\n",
    "    plays = bm25_weight(plays)\n",
    "    return plays.dot(plays.T)\n",
    "\n",
    "def get_largest(row, N=10):\n",
    "    if N >= row.nnz:\n",
    "        best = zip(row.data, row.indices)\n",
    "    else:\n",
    "        ind = np.argpartition(row.data, -N)[-N:]\n",
    "        best = zip(row.data[ind], row.indices[ind])\n",
    "    return sorted(best, reverse=True)\n",
    "\n",
    "def calculate_similar_artists(similarity, artists, artistid):\n",
    "    neighbours = similarity[artistid]\n",
    "    top = get_largest(neighbours)\n",
    "    return [(artists[other], score, i) for i, (score, other) in enumerate(top)]\n",
    "\n",
    "\n",
    "#songsd = dict(enumerate(data['song'].cat.categories))\n",
    "user_count = data.groupby('user').size()\n",
    "#to_generate = sorted(list(songsd), key=lambda x: -user_count[x])\n",
    "\n",
    "similarity = bm25_weight(matrix)"
   ]
  },
  {
   "cell_type": "code",
   "execution_count": 20,
   "metadata": {},
   "outputs": [
    {
     "name": "stdout",
     "output_type": "stream",
     "text": [
      "     syd                          symptom\n",
      "0      1             Upper abdominal pain\n",
      "1      2             Lower abdominal pain\n",
      "2      3      Abscess (Collection of pus)\n",
      "3      4                    Alcohol abuse\n",
      "4      5            Anxiety (Nervousness)\n",
      "..   ...                              ...\n",
      "267  295                 Nipple discharge\n",
      "268  301  Shoulder stiffness or tightness\n",
      "269  303       Arm stiffness or tightness\n",
      "270  304              High blood pressure\n",
      "271  306                 High blood sugar\n",
      "\n",
      "[272 rows x 2 columns]\n"
     ]
    },
    {
     "data": {
      "text/html": [
       "<div>\n",
       "<style scoped>\n",
       "    .dataframe tbody tr th:only-of-type {\n",
       "        vertical-align: middle;\n",
       "    }\n",
       "\n",
       "    .dataframe tbody tr th {\n",
       "        vertical-align: top;\n",
       "    }\n",
       "\n",
       "    .dataframe thead th {\n",
       "        text-align: right;\n",
       "    }\n",
       "</style>\n",
       "<table border=\"1\" class=\"dataframe\">\n",
       "  <thead>\n",
       "    <tr style=\"text-align: right;\">\n",
       "      <th></th>\n",
       "      <th>syd</th>\n",
       "      <th>symptom</th>\n",
       "    </tr>\n",
       "  </thead>\n",
       "  <tbody>\n",
       "    <tr>\n",
       "      <th>0</th>\n",
       "      <td>1</td>\n",
       "      <td>Upper abdominal pain</td>\n",
       "    </tr>\n",
       "    <tr>\n",
       "      <th>1</th>\n",
       "      <td>2</td>\n",
       "      <td>Lower abdominal pain</td>\n",
       "    </tr>\n",
       "    <tr>\n",
       "      <th>2</th>\n",
       "      <td>3</td>\n",
       "      <td>Abscess (Collection of pus)</td>\n",
       "    </tr>\n",
       "    <tr>\n",
       "      <th>3</th>\n",
       "      <td>4</td>\n",
       "      <td>Alcohol abuse</td>\n",
       "    </tr>\n",
       "    <tr>\n",
       "      <th>4</th>\n",
       "      <td>5</td>\n",
       "      <td>Anxiety (Nervousness)</td>\n",
       "    </tr>\n",
       "    <tr>\n",
       "      <th>...</th>\n",
       "      <td>...</td>\n",
       "      <td>...</td>\n",
       "    </tr>\n",
       "    <tr>\n",
       "      <th>266</th>\n",
       "      <td>294</td>\n",
       "      <td>Confusion and headache</td>\n",
       "    </tr>\n",
       "    <tr>\n",
       "      <th>267</th>\n",
       "      <td>295</td>\n",
       "      <td>Nipple discharge</td>\n",
       "    </tr>\n",
       "    <tr>\n",
       "      <th>269</th>\n",
       "      <td>303</td>\n",
       "      <td>Arm stiffness or tightness</td>\n",
       "    </tr>\n",
       "    <tr>\n",
       "      <th>270</th>\n",
       "      <td>304</td>\n",
       "      <td>High blood pressure</td>\n",
       "    </tr>\n",
       "    <tr>\n",
       "      <th>271</th>\n",
       "      <td>306</td>\n",
       "      <td>High blood sugar</td>\n",
       "    </tr>\n",
       "  </tbody>\n",
       "</table>\n",
       "<p>258 rows × 2 columns</p>\n",
       "</div>"
      ],
      "text/plain": [
       "     syd                      symptom\n",
       "0      1         Upper abdominal pain\n",
       "1      2         Lower abdominal pain\n",
       "2      3  Abscess (Collection of pus)\n",
       "3      4                Alcohol abuse\n",
       "4      5        Anxiety (Nervousness)\n",
       "..   ...                          ...\n",
       "266  294       Confusion and headache\n",
       "267  295             Nipple discharge\n",
       "269  303   Arm stiffness or tightness\n",
       "270  304          High blood pressure\n",
       "271  306             High blood sugar\n",
       "\n",
       "[258 rows x 2 columns]"
      ]
     },
     "execution_count": 20,
     "metadata": {},
     "output_type": "execute_result"
    }
   ],
   "source": [
    "print(sym)\n",
    "sym[sym['syd'].isin(list(songsd.index))]"
   ]
  },
  {
   "cell_type": "code",
   "execution_count": 21,
   "metadata": {},
   "outputs": [
    {
     "name": "stdout",
     "output_type": "stream",
     "text": [
      "(1145, 100) (100,) (100, 272) (5371,) (1145, 272) (5371, 3) (1145,) (272,)\n"
     ]
    }
   ],
   "source": [
    "from scipy.sparse.linalg import svds\n",
    "\n",
    "Ur, Si, VTr = svds(bm25_weight(coo_matrix(matrix)), k=100)\n",
    "print(Ur.shape, Si.shape, VTr.shape,user.shape,matrix.shape,data.shape,songsd.shape,user_count.shape)\n",
    "VTr=pd.DataFrame(VTr)"
   ]
  },
  {
   "cell_type": "code",
   "execution_count": 22,
   "metadata": {},
   "outputs": [],
   "source": [
    "from sklearn.metrics.pairwise import cosine_similarity\n",
    "Sddf=pd.DataFrame(cosine_similarity(Ur,VTr.T),columns=user_count.index,index=list(songsd.index)) \n",
    "Sddf.to_csv('Sddf.csv')\n",
    "\n",
    "Sydi=pd.DataFrame(cosine_similarity(Ur,VTr.T))"
   ]
  },
  {
   "cell_type": "code",
   "execution_count": 23,
   "metadata": {},
   "outputs": [
    {
     "name": "stdout",
     "output_type": "stream",
     "text": [
      "Symptom     syd   symptom\n",
      "40   41  Headache\n",
      "top 7 related disease probability\n",
      "\n",
      "596.0 ['Posterior inferior cerebellar artery syndrome\\x0bstroke syndrome']\n",
      "173.0 ['Cluster headache\\x0bone-sided headache behind the eye']\n",
      "505.0 ['Nasal fracture\\x0bbroken nose']\n",
      "1283.0 ['Farsightedness\\x0bhyperopia/hypermetropia']\n",
      "782.0 ['Trigeminal neuralgia\\x0bfacial nerve pain']\n",
      "750.0 ['Temporomandibular joint syndrome\\x0bTMJ, jaw joint pain']\n",
      "1389.0 ['Arnold Chiari malformation']\n"
     ]
    }
   ],
   "source": [
    "booknr=41 #symptoom4\n",
    "print('Symptom',sym[sym['syd']==booknr])\n",
    "print('top 7 related disease probability') #,Sddf[booknr].sort_values(ascending=False))\n",
    "print()\n",
    "lijst= Sddf[booknr].sort_values(ascending=False).index \n",
    "for xi in lijst[:7]:\n",
    "    print(xi,dia[dia['did']==xi].diagnose.values)"
   ]
  },
  {
   "cell_type": "code",
   "execution_count": 24,
   "metadata": {},
   "outputs": [
    {
     "name": "stdout",
     "output_type": "stream",
     "text": [
      "other symptoms            para\n",
      "user           \n",
      "27.0   0.551396\n",
      "41.0   0.793294\n",
      "65.0   0.386402\n",
      "236.0  0.372055\n",
      "     syd           symptom\n",
      "26    27       Facial pain\n",
      "40    41          Headache\n",
      "64    65      Nasal injury\n",
      "223  236  Nasal congestion\n"
     ]
    }
   ],
   "source": [
    "lijst=list(lijst[:3])\n",
    "vectori=[0 for x in range(0,len(user_count))]\n",
    "for xi in lijst:\n",
    "    #ii=songsd.index(xi)\n",
    "    vectori+=Sddf.loc[xi]\n",
    "vect=pd.DataFrame(vectori)\n",
    "vect.columns=['para']\n",
    "vect=vect[vect>1].dropna(axis=0)\n",
    "print('other symptoms',vect/3)\n",
    "print(sym[sym.syd.isin(list(vect.index))])\n"
   ]
  },
  {
   "cell_type": "code",
   "execution_count": null,
   "metadata": {},
   "outputs": [],
   "source": []
  }
 ],
 "metadata": {
  "kernelspec": {
   "display_name": "Python 3",
   "language": "python",
   "name": "python3"
  },
  "language_info": {
   "codemirror_mode": {
    "name": "ipython",
    "version": 3
   },
   "file_extension": ".py",
   "mimetype": "text/x-python",
   "name": "python",
   "nbconvert_exporter": "python",
   "pygments_lexer": "ipython3",
   "version": "3.7.7"
  }
 },
 "nbformat": 4,
 "nbformat_minor": 4
}
